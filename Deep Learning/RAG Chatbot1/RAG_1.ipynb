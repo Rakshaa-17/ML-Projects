{
 "cells": [
  {
   "cell_type": "code",
   "execution_count": 6,
   "id": "7282a751-3629-4877-8c24-caa7dcb16397",
   "metadata": {
    "scrolled": true
   },
   "outputs": [
    {
     "name": "stdout",
     "output_type": "stream",
     "text": [
      "Collecting faiss-cpu\n",
      "  Downloading faiss_cpu-1.11.0.post1-cp312-cp312-win_amd64.whl.metadata (5.1 kB)\n",
      "Requirement already satisfied: numpy<3.0,>=1.25.0 in c:\\users\\admin\\anaconda\\lib\\site-packages (from faiss-cpu) (1.26.4)\n",
      "Requirement already satisfied: packaging in c:\\users\\admin\\anaconda\\lib\\site-packages (from faiss-cpu) (24.1)\n",
      "Downloading faiss_cpu-1.11.0.post1-cp312-cp312-win_amd64.whl (14.9 MB)\n",
      "   ---------------------------------------- 0.0/14.9 MB ? eta -:--:--\n",
      "   -- ------------------------------------- 0.8/14.9 MB 6.6 MB/s eta 0:00:03\n",
      "   --- ------------------------------------ 1.3/14.9 MB 3.7 MB/s eta 0:00:04\n",
      "   ----- ---------------------------------- 2.1/14.9 MB 3.8 MB/s eta 0:00:04\n",
      "   ------- -------------------------------- 2.6/14.9 MB 3.7 MB/s eta 0:00:04\n",
      "   --------- ------------------------------ 3.4/14.9 MB 3.2 MB/s eta 0:00:04\n",
      "   --------- ------------------------------ 3.7/14.9 MB 3.1 MB/s eta 0:00:04\n",
      "   ----------- ---------------------------- 4.5/14.9 MB 3.0 MB/s eta 0:00:04\n",
      "   -------------- ------------------------- 5.2/14.9 MB 3.1 MB/s eta 0:00:04\n",
      "   --------------- ------------------------ 5.8/14.9 MB 3.0 MB/s eta 0:00:04\n",
      "   ----------------- ---------------------- 6.6/14.9 MB 3.1 MB/s eta 0:00:03\n",
      "   -------------------- ------------------- 7.6/14.9 MB 3.3 MB/s eta 0:00:03\n",
      "   ----------------------- ---------------- 8.7/14.9 MB 3.5 MB/s eta 0:00:02\n",
      "   -------------------------- ------------- 9.7/14.9 MB 3.6 MB/s eta 0:00:02\n",
      "   ---------------------------- ----------- 10.5/14.9 MB 3.6 MB/s eta 0:00:02\n",
      "   ------------------------------- -------- 11.8/14.9 MB 3.7 MB/s eta 0:00:01\n",
      "   ---------------------------------- ----- 12.8/14.9 MB 3.8 MB/s eta 0:00:01\n",
      "   -------------------------------------- - 14.2/14.9 MB 3.9 MB/s eta 0:00:01\n",
      "   ---------------------------------------- 14.9/14.9 MB 3.9 MB/s eta 0:00:00\n",
      "Installing collected packages: faiss-cpu\n",
      "Successfully installed faiss-cpu-1.11.0.post1\n"
     ]
    }
   ],
   "source": [
    "!pip install faiss-cpu\n"
   ]
  },
  {
   "cell_type": "code",
   "execution_count": 9,
   "id": "763f6fb0-a04d-4d98-aae7-53a7311560ff",
   "metadata": {},
   "outputs": [
    {
     "name": "stdout",
     "output_type": "stream",
     "text": [
      "Requirement already satisfied: together in c:\\users\\admin\\anaconda\\lib\\site-packages (1.5.21)\n",
      "Requirement already satisfied: aiohttp<4.0.0,>=3.9.3 in c:\\users\\admin\\anaconda\\lib\\site-packages (from together) (3.10.5)\n",
      "Requirement already satisfied: click<9.0.0,>=8.1.7 in c:\\users\\admin\\anaconda\\lib\\site-packages (from together) (8.2.1)\n",
      "Requirement already satisfied: eval-type-backport<0.3.0,>=0.1.3 in c:\\users\\admin\\anaconda\\lib\\site-packages (from together) (0.2.2)\n",
      "Requirement already satisfied: filelock<4.0.0,>=3.13.1 in c:\\users\\admin\\anaconda\\lib\\site-packages (from together) (3.13.1)\n",
      "Requirement already satisfied: numpy>=1.26.0 in c:\\users\\admin\\anaconda\\lib\\site-packages (from together) (1.26.4)\n",
      "Requirement already satisfied: pillow<12.0.0,>=11.1.0 in c:\\users\\admin\\anaconda\\lib\\site-packages (from together) (11.3.0)\n",
      "Requirement already satisfied: pydantic<3.0.0,>=2.6.3 in c:\\users\\admin\\anaconda\\lib\\site-packages (from together) (2.8.2)\n",
      "Requirement already satisfied: requests<3.0.0,>=2.31.0 in c:\\users\\admin\\anaconda\\lib\\site-packages (from together) (2.32.3)\n",
      "Requirement already satisfied: rich<15.0.0,>=13.8.1 in c:\\users\\admin\\anaconda\\lib\\site-packages (from together) (14.0.0)\n",
      "Requirement already satisfied: tabulate<0.10.0,>=0.9.0 in c:\\users\\admin\\anaconda\\lib\\site-packages (from together) (0.9.0)\n",
      "Requirement already satisfied: tqdm<5.0.0,>=4.66.2 in c:\\users\\admin\\anaconda\\lib\\site-packages (from together) (4.66.5)\n",
      "Requirement already satisfied: typer<0.16,>=0.9 in c:\\users\\admin\\anaconda\\lib\\site-packages (from together) (0.9.0)\n",
      "Requirement already satisfied: aiohappyeyeballs>=2.3.0 in c:\\users\\admin\\anaconda\\lib\\site-packages (from aiohttp<4.0.0,>=3.9.3->together) (2.4.0)\n",
      "Requirement already satisfied: aiosignal>=1.1.2 in c:\\users\\admin\\anaconda\\lib\\site-packages (from aiohttp<4.0.0,>=3.9.3->together) (1.2.0)\n",
      "Requirement already satisfied: attrs>=17.3.0 in c:\\users\\admin\\anaconda\\lib\\site-packages (from aiohttp<4.0.0,>=3.9.3->together) (23.1.0)\n",
      "Requirement already satisfied: frozenlist>=1.1.1 in c:\\users\\admin\\anaconda\\lib\\site-packages (from aiohttp<4.0.0,>=3.9.3->together) (1.4.0)\n",
      "Requirement already satisfied: multidict<7.0,>=4.5 in c:\\users\\admin\\anaconda\\lib\\site-packages (from aiohttp<4.0.0,>=3.9.3->together) (6.0.4)\n",
      "Requirement already satisfied: yarl<2.0,>=1.0 in c:\\users\\admin\\anaconda\\lib\\site-packages (from aiohttp<4.0.0,>=3.9.3->together) (1.11.0)\n",
      "Requirement already satisfied: colorama in c:\\users\\admin\\anaconda\\lib\\site-packages (from click<9.0.0,>=8.1.7->together) (0.4.6)\n",
      "Requirement already satisfied: annotated-types>=0.4.0 in c:\\users\\admin\\anaconda\\lib\\site-packages (from pydantic<3.0.0,>=2.6.3->together) (0.6.0)\n",
      "Requirement already satisfied: pydantic-core==2.20.1 in c:\\users\\admin\\anaconda\\lib\\site-packages (from pydantic<3.0.0,>=2.6.3->together) (2.20.1)\n",
      "Requirement already satisfied: typing-extensions>=4.6.1 in c:\\users\\admin\\anaconda\\lib\\site-packages (from pydantic<3.0.0,>=2.6.3->together) (4.11.0)\n",
      "Requirement already satisfied: charset-normalizer<4,>=2 in c:\\users\\admin\\anaconda\\lib\\site-packages (from requests<3.0.0,>=2.31.0->together) (3.3.2)\n",
      "Requirement already satisfied: idna<4,>=2.5 in c:\\users\\admin\\anaconda\\lib\\site-packages (from requests<3.0.0,>=2.31.0->together) (3.7)\n",
      "Requirement already satisfied: urllib3<3,>=1.21.1 in c:\\users\\admin\\anaconda\\lib\\site-packages (from requests<3.0.0,>=2.31.0->together) (2.2.3)\n",
      "Requirement already satisfied: certifi>=2017.4.17 in c:\\users\\admin\\anaconda\\lib\\site-packages (from requests<3.0.0,>=2.31.0->together) (2025.4.26)\n",
      "Requirement already satisfied: markdown-it-py>=2.2.0 in c:\\users\\admin\\anaconda\\lib\\site-packages (from rich<15.0.0,>=13.8.1->together) (2.2.0)\n",
      "Requirement already satisfied: pygments<3.0.0,>=2.13.0 in c:\\users\\admin\\anaconda\\lib\\site-packages (from rich<15.0.0,>=13.8.1->together) (2.15.1)\n",
      "Requirement already satisfied: mdurl~=0.1 in c:\\users\\admin\\anaconda\\lib\\site-packages (from markdown-it-py>=2.2.0->rich<15.0.0,>=13.8.1->together) (0.1.0)\n"
     ]
    }
   ],
   "source": [
    "!pip install together"
   ]
  },
  {
   "cell_type": "code",
   "execution_count": 11,
   "id": "4143e4b3-91b2-49f2-a145-02dca019a47a",
   "metadata": {},
   "outputs": [],
   "source": [
    "import numpy as np\n",
    "import faiss\n",
    "from sentence_transformers import SentenceTransformer\n",
    "from together import Together\n",
    "import os"
   ]
  },
  {
   "cell_type": "code",
   "execution_count": 12,
   "id": "0453837a-c0fc-40b5-ad04-f5717421f5d7",
   "metadata": {},
   "outputs": [],
   "source": [
    "# Initialize Together AI client (replace with your API key)\n",
    "together_client = Together(api_key=\"53b5367ca3a3028837f6786a464abcd57246ecf8dc1c7363889adb1fba0f599d\")"
   ]
  },
  {
   "cell_type": "code",
   "execution_count": 13,
   "id": "f87c879a-988b-47d9-a1ff-467bf922ab84",
   "metadata": {},
   "outputs": [],
   "source": [
    "# Initialize embedding model\n",
    "embedder = SentenceTransformer('all-MiniLM-L6-v2')"
   ]
  },
  {
   "cell_type": "code",
   "execution_count": 14,
   "id": "b6906c4d-6c47-4b10-b35a-a595f12c4154",
   "metadata": {},
   "outputs": [],
   "source": [
    "# Sample text data\n",
    "sample_text = \"\"\"\n",
    "Artificial Intelligence (AI) is transforming industries. It enables machines to learn from data and make decisions.\n",
    "Machine Learning (ML) is a subset of AI that focuses on algorithms that improve with experience.\n",
    "Natural Language Processing (NLP) allows machines to understand and generate human language.\n",
    "Deep Learning uses neural networks to model complex patterns in data.\n",
    "AI applications include chatbots, recommendation systems, and autonomous vehicles.\n",
    "\"\"\""
   ]
  },
  {
   "cell_type": "code",
   "execution_count": 15,
   "id": "2a82c7f8-c055-4f9d-ad5f-fd072dc2ce83",
   "metadata": {},
   "outputs": [],
   "source": [
    "# Split text into chunks\n",
    "chunks = sample_text.strip().split('\\n')\n",
    "\n",
    "# Generate embeddings for chunks\n",
    "embeddings = embedder.encode(chunks)\n",
    "\n",
    "# Initialize FAISS index\n",
    "dimension = embeddings.shape[1]\n",
    "index = faiss.IndexFlatL2(dimension)\n",
    "index.add(np.array(embeddings))"
   ]
  },
  {
   "cell_type": "code",
   "execution_count": 16,
   "id": "21f44ddd-a4d9-4433-8fa2-c2ce42a92bd0",
   "metadata": {},
   "outputs": [],
   "source": [
    "def retrieve_context(query, k=2):\n",
    "    # Encode query\n",
    "    query_embedding = embedder.encode([query])[0]\n",
    "    # Search FAISS index\n",
    "    distances, indices = index.search(np.array([query_embedding]), k)\n",
    "    # Retrieve relevant chunks\n",
    "    context = [chunks[idx] for idx in indices[0]]\n",
    "    return \" \".join(context)\n",
    "\n",
    "def generate_response(query, context):\n",
    "    # Construct prompt\n",
    "    prompt = f\"Context: {context}\\n\\nQuery: {query}\\n\\nAnswer:\"\n",
    "    # Call Together AI API\n",
    "    response = together_client.chat.completions.create(\n",
    "        model=\"mistralai/Mixtral-8x7B-Instruct-v0.1\",\n",
    "        messages=[{\"role\": \"user\", \"content\": prompt}],\n",
    "        max_tokens=150,\n",
    "        temperature=0.7\n",
    "    )\n",
    "    return response.choices[0].message.content\n"
   ]
  },
  {
   "cell_type": "code",
   "execution_count": null,
   "id": "f1d266ba-99c3-4397-834a-53f6b6d4a7e6",
   "metadata": {},
   "outputs": [
    {
     "name": "stdout",
     "output_type": "stream",
     "text": [
      "RAG Chatbot: Type 'exit' to quit.\n"
     ]
    },
    {
     "name": "stdin",
     "output_type": "stream",
     "text": [
      "You:  dog types\n"
     ]
    },
    {
     "name": "stdout",
     "output_type": "stream",
     "text": [
      "Bot:  It seems like your query \"dog types\" is not directly related to the context provided about Deep Learning and AI applications. However, I can still provide information about different types of dog breeds.\n",
      "\n",
      "There are various types of dog breeds, generally categorized into several groups based on their appearance, behavior, and historical purpose. Some common groups include:\n",
      "\n",
      "1. Sporting Group: These breeds are typically energetic, agile, and well-suited for outdoor activities such as hunting, retrieving, and tracking. Examples include Labrador Retrievers, Golden Retrievers, and English Springer Spaniels.\n",
      "\n",
      "2. Hound Group: Hounds are known for their strong sense of smell and hunting\n"
     ]
    },
    {
     "name": "stdin",
     "output_type": "stream",
     "text": [
      "You:  AI\n"
     ]
    },
    {
     "name": "stdout",
     "output_type": "stream",
     "text": [
      "Bot:  Artificial Intelligence, or AI, is a branch of computer science that aims to create systems capable of performing tasks that would normally require human intelligence. These tasks include learning and adapting to new information, understanding human language, recognizing patterns, solving problems, and making decisions.\n",
      "\n",
      "AI can be categorized into two main types: Narrow AI, which is designed to perform a narrow task (like facial recognition or internet searches), and General AI, which can perform any intellectual task that a human being can do.\n",
      "\n",
      "The field of AI is rapidly evolving and has numerous applications in various industries. For instance, in healthcare, AI can help doctors to diagnose diseases more accurately and quickly. In finance, AI can be used\n"
     ]
    }
   ],
   "source": [
    "def main():\n",
    "    print(\"RAG Chatbot: Type 'exit' to quit.\")\n",
    "    while True:\n",
    "        query = input(\"You: \")\n",
    "        if query.lower() == 'exit':\n",
    "            break\n",
    "        # Retrieve relevant context\n",
    "        context = retrieve_context(query)\n",
    "        # Generate response\n",
    "        response = generate_response(query, context)\n",
    "        print(f\"Bot: {response}\")\n",
    "\n",
    "if __name__ == \"__main__\":\n",
    "    main()"
   ]
  },
  {
   "cell_type": "code",
   "execution_count": null,
   "id": "d1df1726-a1eb-40d4-a856-fb073a4642d2",
   "metadata": {},
   "outputs": [],
   "source": []
  },
  {
   "cell_type": "code",
   "execution_count": null,
   "id": "32d3c87f-b65d-41a2-9d48-2561330accb5",
   "metadata": {},
   "outputs": [],
   "source": []
  }
 ],
 "metadata": {
  "kernelspec": {
   "display_name": "Python [conda env:base] *",
   "language": "python",
   "name": "conda-base-py"
  },
  "language_info": {
   "codemirror_mode": {
    "name": "ipython",
    "version": 3
   },
   "file_extension": ".py",
   "mimetype": "text/x-python",
   "name": "python",
   "nbconvert_exporter": "python",
   "pygments_lexer": "ipython3",
   "version": "3.12.3"
  }
 },
 "nbformat": 4,
 "nbformat_minor": 5
}
