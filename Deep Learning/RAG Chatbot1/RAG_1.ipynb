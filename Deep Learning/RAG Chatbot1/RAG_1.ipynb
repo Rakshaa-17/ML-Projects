import numpy as np
import faiss
from sentence_transformers import SentenceTransformer
from together import Together
import os

# Initialize Together AI client (replace with your API key)
together_client = Together(api_key="") #Replace with API key 

# Initialize embedding model
embedder = SentenceTransformer('all-MiniLM-L6-v2')

# Sample text data
sample_text = """
Artificial Intelligence (AI) is transforming industries. It enables machines to learn from data and make decisions.
Machine Learning (ML) is a subset of AI that focuses on algorithms that improve with experience.
Natural Language Processing (NLP) allows machines to understand and generate human language.
Deep Learning uses neural networks to model complex patterns in data.
AI applications include chatbots, recommendation systems, and autonomous vehicles.
"""

# Split text into chunks
chunks = sample_text.strip().split('\n')

# Generate embeddings for chunks
embeddings = embedder.encode(chunks)

# Initialize FAISS index
dimension = embeddings.shape[1]
index = faiss.IndexFlatL2(dimension)
index.add(np.array(embeddings))

def retrieve_context(query, k=2):
    # Encode query
    query_embedding = embedder.encode([query])[0]
    # Search FAISS index
    distances, indices = index.search(np.array([query_embedding]), k)
    # Retrieve relevant chunks
    context = [chunks[idx] for idx in indices[0]]
    return " ".join(context)

def generate_response(query, context):
    # Construct prompt
    prompt = f"Context: {context}\n\nQuery: {query}\n\nAnswer:"
    # Call Together AI API
    response = together_client.chat.completions.create(
        model="mistralai/Mixtral-8x7B-Instruct-v0.1",
        messages=[{"role": "user", "content": prompt}],
        max_tokens=150,
        temperature=0.7
    )
    return response.choices[0].message.content

def main():
    print("RAG Chatbot: Type 'exit' to quit.")
    while True:
        query = input("You: ")
        if query.lower() == 'exit':
            break
        # Retrieve relevant context
        context = retrieve_context(query)
        # Generate response
        response = generate_response(query, context)
        print(f"Bot: {response}")

if __name__ == "__main__":
    main()
